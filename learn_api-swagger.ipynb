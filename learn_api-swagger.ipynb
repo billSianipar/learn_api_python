{
 "cells": [
  {
   "cell_type": "code",
   "execution_count": 2,
   "id": "76abaec5",
   "metadata": {},
   "outputs": [
    {
     "name": "stdout",
     "output_type": "stream",
     "text": [
      "Collecting flasggerNote: you may need to restart the kernel to use updated packages.\n",
      "  Downloading flasgger-0.9.7.1.tar.gz (4.0 MB)\n",
      "Requirement already satisfied: Flask>=0.10 in c:\\users\\user\\anaconda3\\lib\\site-packages (from flasgger) (1.1.2)\n",
      "Requirement already satisfied: PyYAML>=3.0 in c:\\users\\user\\anaconda3\\lib\\site-packages (from flasgger) (5.4.1)\n",
      "Requirement already satisfied: jsonschema>=3.0.1 in c:\\users\\user\\anaconda3\\lib\\site-packages (from flasgger) (3.2.0)\n",
      "Requirement already satisfied: mistune in c:\\users\\user\\anaconda3\\lib\\site-packages (from flasgger) (0.8.4)\n",
      "Requirement already satisfied: six>=1.10.0 in c:\\users\\user\\anaconda3\\lib\\site-packages (from flasgger) (1.15.0)\n",
      "Requirement already satisfied: packaging in c:\\users\\user\\anaconda3\\lib\\site-packages (from flasgger) (20.9)\n",
      "Requirement already satisfied: click>=5.1 in c:\\users\\user\\anaconda3\\lib\\site-packages (from Flask>=0.10->flasgger) (7.1.2)\n",
      "Requirement already satisfied: Werkzeug>=0.15 in c:\\users\\user\\anaconda3\\lib\\site-packages (from Flask>=0.10->flasgger) (1.0.1)\n",
      "Requirement already satisfied: Jinja2>=2.10.1 in c:\\users\\user\\anaconda3\\lib\\site-packages (from Flask>=0.10->flasgger) (2.11.3)\n",
      "Requirement already satisfied: itsdangerous>=0.24 in c:\\users\\user\\anaconda3\\lib\\site-packages (from Flask>=0.10->flasgger) (1.1.0)\n",
      "Requirement already satisfied: MarkupSafe>=0.23 in c:\\users\\user\\anaconda3\\lib\\site-packages (from Jinja2>=2.10.1->Flask>=0.10->flasgger) (1.1.1)\n",
      "Requirement already satisfied: attrs>=17.4.0 in c:\\users\\user\\anaconda3\\lib\\site-packages (from jsonschema>=3.0.1->flasgger) (20.3.0)\n",
      "Requirement already satisfied: setuptools in c:\\users\\user\\anaconda3\\lib\\site-packages (from jsonschema>=3.0.1->flasgger) (52.0.0.post20210125)\n",
      "\n",
      "Requirement already satisfied: pyrsistent>=0.14.0 in c:\\users\\user\\anaconda3\\lib\\site-packages (from jsonschema>=3.0.1->flasgger) (0.17.3)\n",
      "Requirement already satisfied: pyparsing>=2.0.2 in c:\\users\\user\\anaconda3\\lib\\site-packages (from packaging->flasgger) (2.4.7)\n",
      "Building wheels for collected packages: flasgger\n",
      "  Building wheel for flasgger (setup.py): started\n",
      "  Building wheel for flasgger (setup.py): finished with status 'done'\n",
      "  Created wheel for flasgger: filename=flasgger-0.9.7.1-py2.py3-none-any.whl size=3865174 sha256=4ddb451cf14b4151b792842fd8c43cdbcd4e2c90c48c9ab45cf590f4ec6e2c52\n",
      "  Stored in directory: c:\\users\\user\\appdata\\local\\pip\\cache\\wheels\\d1\\36\\db\\f37d1dfdc4a4060a0ce85fc9d32d819594479aef75d8323d90\n",
      "Successfully built flasgger\n",
      "Installing collected packages: flasgger\n",
      "Successfully installed flasgger-0.9.7.1\n"
     ]
    }
   ],
   "source": [
    "pip install flasgger"
   ]
  },
  {
   "cell_type": "code",
   "execution_count": 3,
   "id": "b8c7e6de",
   "metadata": {},
   "outputs": [
    {
     "name": "stdout",
     "output_type": "stream",
     "text": [
      " * Serving Flask app \"__main__\" (lazy loading)\n",
      " * Environment: production\n",
      "   WARNING: This is a development server. Do not use it in a production deployment.\n",
      "   Use a production WSGI server instead.\n",
      " * Debug mode: off\n"
     ]
    },
    {
     "name": "stderr",
     "output_type": "stream",
     "text": [
      " * Running on http://127.0.0.1:5000/ (Press CTRL+C to quit)\n",
      "127.0.0.1 - - [29/Aug/2023 22:57:53] \"\u001b[37mGET / HTTP/1.1\u001b[0m\" 200 -\n"
     ]
    }
   ],
   "source": [
    "from flasgger \n",
    "from flask import request, Flask, jsonify\n",
    "\n",
    "app = Flask(__name__)\n",
    "\n",
    "@app.route('/', methods=['GET'])\n",
    "def hello_world():\n",
    "    json_response = {\n",
    "        'status_code': 200,\n",
    "        'description': \"Menyapa Hello World\",\n",
    "        'data': 'Hello World'\n",
    "    }\n",
    "    \n",
    "    response_data = jsonify(json_response)\n",
    "    return response_data\n",
    "\n",
    "if __name__ == \"__main__\":\n",
    "    app.run()"
   ]
  }
 ],
 "metadata": {
  "kernelspec": {
   "display_name": "Python 3",
   "language": "python",
   "name": "python3"
  },
  "language_info": {
   "codemirror_mode": {
    "name": "ipython",
    "version": 3
   },
   "file_extension": ".py",
   "mimetype": "text/x-python",
   "name": "python",
   "nbconvert_exporter": "python",
   "pygments_lexer": "ipython3",
   "version": "3.8.8"
  }
 },
 "nbformat": 4,
 "nbformat_minor": 5
}
